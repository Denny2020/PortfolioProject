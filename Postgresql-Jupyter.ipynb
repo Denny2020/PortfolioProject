{
 "cells": [
  {
   "cell_type": "code",
   "execution_count": 1,
   "id": "5db838b2",
   "metadata": {},
   "outputs": [],
   "source": [
    "#import the librbary\n",
    "import psycopg2"
   ]
  },
  {
   "cell_type": "code",
   "execution_count": 2,
   "id": "9e4a615c",
   "metadata": {},
   "outputs": [
    {
     "name": "stdout",
     "output_type": "stream",
     "text": [
      "Requirement already satisfied: psycopg2 in /Users/denny/pysparktest/lib/python3.9/site-packages (2.9.3)\r\n"
     ]
    }
   ],
   "source": [
    "!pip install psycopg2"
   ]
  },
  {
   "cell_type": "code",
   "execution_count": 3,
   "id": "c37a9a4b",
   "metadata": {},
   "outputs": [],
   "source": [
    "try:\n",
    "    conn = psycopg2.connect(host='localhost',dbname=\"Upflowy_project_db\",user=\"postgres\",password='Pa55word')\n",
    "except psycopg2.Error as e:\n",
    "    print(\"Error: Could not make connection to the Postgres database\")\n",
    "    print(e)\n",
    "    \n",
    "    \n",
    "conn.set_session(autocommit=True)"
   ]
  },
  {
   "cell_type": "code",
   "execution_count": 4,
   "id": "5813489a",
   "metadata": {},
   "outputs": [],
   "source": [
    "# create a cursor\n",
    "cur = conn.cursor()"
   ]
  },
  {
   "cell_type": "code",
   "execution_count": 4,
   "id": "b06e2dc5",
   "metadata": {},
   "outputs": [
    {
     "ename": "DuplicateDatabase",
     "evalue": "database \"flight\" already exists\n",
     "output_type": "error",
     "traceback": [
      "\u001b[0;31m---------------------------------------------------------------------------\u001b[0m",
      "\u001b[0;31mDuplicateDatabase\u001b[0m                         Traceback (most recent call last)",
      "Input \u001b[0;32mIn [4]\u001b[0m, in \u001b[0;36m<cell line: 2>\u001b[0;34m()\u001b[0m\n\u001b[1;32m      1\u001b[0m \u001b[38;5;66;03m#create database\u001b[39;00m\n\u001b[0;32m----> 2\u001b[0m \u001b[43mcur\u001b[49m\u001b[38;5;241;43m.\u001b[39;49m\u001b[43mexecute\u001b[49m\u001b[43m(\u001b[49m\u001b[38;5;124;43m\"\u001b[39;49m\u001b[38;5;124;43mCREATE DATABASE flight;\u001b[39;49m\u001b[38;5;124;43m\"\u001b[39;49m\u001b[43m)\u001b[49m\n",
      "\u001b[0;31mDuplicateDatabase\u001b[0m: database \"flight\" already exists\n"
     ]
    }
   ],
   "source": [
    "#create database\n",
    "cur.execute(\"CREATE DATABASE flight;\")"
   ]
  },
  {
   "cell_type": "markdown",
   "id": "c7c4747e",
   "metadata": {},
   "source": [
    "create spark session object and import postgresql connector jar file in current spark session object"
   ]
  },
  {
   "cell_type": "code",
   "execution_count": 5,
   "id": "7d875612",
   "metadata": {},
   "outputs": [
    {
     "name": "stdout",
     "output_type": "stream",
     "text": [
      "Requirement already satisfied: pyspark in /Users/denny/pysparktest/lib/python3.9/site-packages (3.2.1)\r\n",
      "Requirement already satisfied: py4j==0.10.9.3 in /Users/denny/pysparktest/lib/python3.9/site-packages (from pyspark) (0.10.9.3)\r\n"
     ]
    }
   ],
   "source": [
    "#import pyspark library\n",
    "!pip install pyspark"
   ]
  },
  {
   "cell_type": "code",
   "execution_count": null,
   "id": "c9b4c6d9",
   "metadata": {},
   "outputs": [],
   "source": [
    "#import os\n",
    "#from pyspark.sql import SparkSession\n",
    "\n",
    "#PATH_TO_JAR_FILE = \"postgresql-42.3.4.jar\"\n",
    "#spark = SparkSession \\\n",
    "    #.builder \\\n",
    "    #.appName(\"PySpark_POSTGRESQL\") \\\n",
    "    #.config(\"spark.jars\", PATH_TO_JAR_FILE) \\\n",
    "    #.getOrCreate()\n",
    "\n",
    "#DB_HOST = os.environ.get(\"PG_HOST\")\n",
    "#DB_PORT = os.environ.get(\"PG_PORT\")\n",
    "#DB_NAME = os.environ.get(\"PG_DB_CLEAN\")\n",
    "#DB_PASSWORD = os.environ.get(\"PG_PASSWORD\")\n",
    "#DB_USER = os.environ.get(\"PG_USERNAME\")\n",
    "\n",
    "#df = spark.read \\\n",
    "   # .format(\"jdbc\") \\\n",
    "   # .option(\"url\", f\"jdbc:postgresql://{DB_HOST}:{DB_PORT}/{DB_NAME}\") \\\n",
    "    #.option(\"user\", DB_USER) \\\n",
    "    #.option(\"password\", DB_PASSWORD) \\\n",
    "    #.option(\"driver\", \"org.postgresql.Driver\") \\\n",
    "    #.option(\"query\",\"select * from your_table\") \\\n",
    "    #.option('fetchsize',\"1000\") \\\n",
    "    #.load()\n",
    "\n",
    "#df.printSchema()"
   ]
  },
  {
   "cell_type": "code",
   "execution_count": 7,
   "id": "54d18dee",
   "metadata": {},
   "outputs": [],
   "source": [
    "spark.stop()"
   ]
  },
  {
   "cell_type": "code",
   "execution_count": 9,
   "id": "515b119f",
   "metadata": {},
   "outputs": [],
   "source": [
    "#import spark session\n",
    "import pyspark\n",
    "from pyspark.sql import SparkSession\n",
    "spark = SparkSession.builder.config(\"spark.jars\", \"postgresql-42.3.4.jar\") \\\n",
    "    .master(\"local\").appName(\"PySpark_POSTGRESQL\").getOrCreate()"
   ]
  },
  {
   "cell_type": "code",
   "execution_count": 10,
   "id": "a0542dae",
   "metadata": {},
   "outputs": [],
   "source": [
    "#create pyspark dataframe\n",
    "AirlineDF = spark.read.option(\"header\", \"true\").csv(\"airlines1.csv\")"
   ]
  },
  {
   "cell_type": "code",
   "execution_count": 11,
   "id": "5ebfc386",
   "metadata": {},
   "outputs": [
    {
     "name": "stderr",
     "output_type": "stream",
     "text": [
      "22/05/11 23:16:29 WARN package: Truncated the string representation of a plan since it was too large. This behavior can be adjusted by setting 'spark.sql.debug.maxToStringFields'.\n"
     ]
    },
    {
     "name": "stdout",
     "output_type": "stream",
     "text": [
      "+---+----+-------+-----+----------+---------+----------+-----------------+------------------------+---------------------------+-----------+-------------------------------+---------------+------------------+------------------+------+------------------+-----------+---------------+---------------+---------+-------------+----------------+----------------+----+--------------------+---------+-------------+--------------+-------+----------+-------+--------+---------------+--------+--------------------+----------+-------+---------+--------+------+----------+-------+--------+---------------+--------+------------------+----------+---------+----------------+--------+--------------+-----------------+-------+-------+--------+-------------+------------+------------+--------+-------------+-----------------+------------+-------------+---------------+------------------+--------------+--------------------+-----------+-----------+-----------+-------------+----------------+------------+--------------+----------------+-------------+-----------+-----------+-------------+----------------+------------+--------------+----------------+-------------+-----------+-----------+-------------+----------------+------------+--------------+----------------+-------------+-----------+-----------+-------------+----------------+------------+--------------+----------------+-------------+-----------+-----------+-------------+----------------+------------+--------------+----------------+-------------+-----------+\n",
      "|_c0|Year|Quarter|Month|DayofMonth|DayOfWeek|FlightDate|Reporting_Airline|DOT_ID_Reporting_Airline|IATA_CODE_Reporting_Airline|Tail_Number|Flight_Number_Reporting_Airline|OriginAirportID|OriginAirportSeqID|OriginCityMarketID|Origin|    OriginCityName|OriginState|OriginStateFips|OriginStateName|OriginWac|DestAirportID|DestAirportSeqID|DestCityMarketID|Dest|        DestCityName|DestState|DestStateFips| DestStateName|DestWac|CRSDepTime|DepTime|DepDelay|DepDelayMinutes|DepDel15|DepartureDelayGroups|DepTimeBlk|TaxiOut|WheelsOff|WheelsOn|TaxiIn|CRSArrTime|ArrTime|ArrDelay|ArrDelayMinutes|ArrDel15|ArrivalDelayGroups|ArrTimeBlk|Cancelled|CancellationCode|Diverted|CRSElapsedTime|ActualElapsedTime|AirTime|Flights|Distance|DistanceGroup|CarrierDelay|WeatherDelay|NASDelay|SecurityDelay|LateAircraftDelay|FirstDepTime|TotalAddGTime|LongestAddGTime|DivAirportLandings|DivReachedDest|DivActualElapsedTime|DivArrDelay|DivDistance|Div1Airport|Div1AirportID|Div1AirportSeqID|Div1WheelsOn|Div1TotalGTime|Div1LongestGTime|Div1WheelsOff|Div1TailNum|Div2Airport|Div2AirportID|Div2AirportSeqID|Div2WheelsOn|Div2TotalGTime|Div2LongestGTime|Div2WheelsOff|Div2TailNum|Div3Airport|Div3AirportID|Div3AirportSeqID|Div3WheelsOn|Div3TotalGTime|Div3LongestGTime|Div3WheelsOff|Div3TailNum|Div4Airport|Div4AirportID|Div4AirportSeqID|Div4WheelsOn|Div4TotalGTime|Div4LongestGTime|Div4WheelsOff|Div4TailNum|Div5Airport|Div5AirportID|Div5AirportSeqID|Div5WheelsOn|Div5TotalGTime|Div5LongestGTime|Div5WheelsOff|Div5TailNum|\n",
      "+---+----+-------+-----+----------+---------+----------+-----------------+------------------------+---------------------------+-----------+-------------------------------+---------------+------------------+------------------+------+------------------+-----------+---------------+---------------+---------+-------------+----------------+----------------+----+--------------------+---------+-------------+--------------+-------+----------+-------+--------+---------------+--------+--------------------+----------+-------+---------+--------+------+----------+-------+--------+---------------+--------+------------------+----------+---------+----------------+--------+--------------+-----------------+-------+-------+--------+-------------+------------+------------+--------+-------------+-----------------+------------+-------------+---------------+------------------+--------------+--------------------+-----------+-----------+-----------+-------------+----------------+------------+--------------+----------------+-------------+-----------+-----------+-------------+----------------+------------+--------------+----------------+-------------+-----------+-----------+-------------+----------------+------------+--------------+----------------+-------------+-----------+-----------+-------------+----------------+------------+--------------+----------------+-------------+-----------+-----------+-------------+----------------+------------+--------------+----------------+-------------+-----------+\n",
      "|  0|1998|      1|    1|         2|        5|1998-01-02|               NW|                   19386|                         NW|     N297US|                            675|          13487|           1348701|             31650|   MSP|   Minneapolis, MN|         MN|           27.0|      Minnesota|       63|        14869|         1486902|           34614| SLC|  Salt Lake City, UT|       UT|         49.0|          Utah|     87|      1640| 1659.0|    19.0|           19.0|     1.0|                 1.0| 1600-1659|   24.0|   1723.0|  1856.0|   3.0|      1836| 1859.0|    23.0|           23.0|     1.0|               1.0| 1800-1859|      0.0|            null|     0.0|         176.0|            180.0|  153.0|    1.0|   991.0|            4|        null|        null|    null|         null|             null|        null|         null|           null|              null|          null|                null|       null|       null|       null|         null|            null|        null|          null|            null|         null|       null|       null|         null|            null|        null|          null|            null|         null|       null|       null|         null|            null|        null|          null|            null|         null|       null|       null|         null|            null|        null|          null|            null|         null|       null|       null|         null|            null|        null|          null|            null|         null|       null|\n",
      "|  1|2009|      2|    5|        28|        4|2009-05-28|               FL|                   20437|                         FL|     N946AT|                            671|          13342|           1334202|             33342|   MKE|     Milwaukee, WI|         WI|           55.0|      Wisconsin|       45|        13204|         1320401|           31454| MCO|         Orlando, FL|       FL|         12.0|       Florida|     33|      1204| 1202.0|    -2.0|            0.0|     0.0|                -1.0| 1200-1259|   10.0|   1212.0|  1533.0|   8.0|      1541| 1541.0|     0.0|            0.0|     0.0|               0.0| 1500-1559|      0.0|            null|     0.0|         157.0|            159.0|  141.0|    1.0|  1066.0|            5|        null|        null|    null|         null|             null|        null|         null|           null|               0.0|          null|                null|       null|       null|       null|         null|            null|        null|          null|            null|         null|       null|       null|         null|            null|        null|          null|            null|         null|       null|       null|         null|            null|        null|          null|            null|         null|       null|       null|         null|            null|        null|          null|            null|         null|       null|       null|         null|            null|        null|          null|            null|         null|       null|\n",
      "|  2|2013|      2|    6|        29|        6|2013-06-29|               MQ|                   20398|                         MQ|     N665MQ|                           3297|          11921|           1192102|             31921|   GJT|Grand Junction, CO|         CO|            8.0|       Colorado|       82|        11298|         1129803|           30194| DFW|Dallas/Fort Worth...|       TX|         48.0|         Texas|     74|      1630| 1644.0|    14.0|           14.0|     0.0|                 0.0| 1600-1659|    9.0|   1653.0|  1936.0|   6.0|      1945| 1942.0|    -3.0|            0.0|     0.0|              -1.0| 1900-1959|      0.0|            null|     0.0|         135.0|            118.0|  103.0|    1.0|   773.0|            4|        null|        null|    null|         null|             null|        null|         null|           null|               0.0|          null|                null|       null|       null|       null|         null|            null|        null|          null|            null|         null|       null|       null|         null|            null|        null|          null|            null|         null|       null|       null|         null|            null|        null|          null|            null|         null|       null|       null|         null|            null|        null|          null|            null|         null|       null|       null|         null|            null|        null|          null|            null|         null|       null|\n",
      "|  3|2010|      3|    8|        31|        2|2010-08-31|               DL|                   19790|                         DL|     N6705Y|                           1806|          12892|           1289201|             32575|   LAX|   Los Angeles, CA|         CA|            6.0|     California|       91|        11433|         1143301|           31295| DTW|         Detroit, MI|       MI|         26.0|      Michigan|     43|      1305| 1305.0|     0.0|            0.0|     0.0|                 0.0| 1300-1359|   23.0|   1328.0|  2008.0|   7.0|      2035| 2015.0|   -20.0|            0.0|     0.0|              -2.0| 2000-2059|      0.0|            null|     0.0|         270.0|            250.0|  220.0|    1.0|  1979.0|            8|        null|        null|    null|         null|             null|        null|         null|           null|               0.0|          null|                null|       null|       null|       null|         null|            null|        null|          null|            null|         null|       null|       null|         null|            null|        null|          null|            null|         null|       null|       null|         null|            null|        null|          null|            null|         null|       null|       null|         null|            null|        null|          null|            null|         null|       null|       null|         null|            null|        null|          null|            null|         null|       null|\n",
      "|  4|2006|      1|    1|        15|        7|2006-01-15|               US|                   20355|                         US|     N504AU|                            465|          11618|           1161801|             31703|   EWR|        Newark, NJ|         NJ|           34.0|     New Jersey|       21|        11057|         1105702|           31057| CLT|       Charlotte, NC|       NC|         37.0|North Carolina|     36|      1820| 1911.0|    51.0|           51.0|     1.0|                 3.0| 1800-1859|   19.0|   1930.0|  2050.0|   8.0|      2026| 2058.0|    32.0|           32.0|     1.0|               2.0| 2000-2059|      0.0|            null|     0.0|         126.0|            107.0|   80.0|    1.0|   529.0|            3|         0.0|         0.0|     0.0|          0.0|             32.0|        null|         null|           null|              null|          null|                null|       null|       null|       null|         null|            null|        null|          null|            null|         null|       null|       null|         null|            null|        null|          null|            null|         null|       null|       null|         null|            null|        null|          null|            null|         null|       null|       null|         null|            null|        null|          null|            null|         null|       null|       null|         null|            null|        null|          null|            null|         null|       null|\n",
      "+---+----+-------+-----+----------+---------+----------+-----------------+------------------------+---------------------------+-----------+-------------------------------+---------------+------------------+------------------+------+------------------+-----------+---------------+---------------+---------+-------------+----------------+----------------+----+--------------------+---------+-------------+--------------+-------+----------+-------+--------+---------------+--------+--------------------+----------+-------+---------+--------+------+----------+-------+--------+---------------+--------+------------------+----------+---------+----------------+--------+--------------+-----------------+-------+-------+--------+-------------+------------+------------+--------+-------------+-----------------+------------+-------------+---------------+------------------+--------------+--------------------+-----------+-----------+-----------+-------------+----------------+------------+--------------+----------------+-------------+-----------+-----------+-------------+----------------+------------+--------------+----------------+-------------+-----------+-----------+-------------+----------------+------------+--------------+----------------+-------------+-----------+-----------+-------------+----------------+------------+--------------+----------------+-------------+-----------+-----------+-------------+----------------+------------+--------------+----------------+-------------+-----------+\n",
      "only showing top 5 rows\n",
      "\n"
     ]
    },
    {
     "name": "stderr",
     "output_type": "stream",
     "text": [
      "22/05/11 23:16:30 WARN CSVHeaderChecker: CSV header does not conform to the schema.\n",
      " Header: , Year, Quarter, Month, DayofMonth, DayOfWeek, FlightDate, Reporting_Airline, DOT_ID_Reporting_Airline, IATA_CODE_Reporting_Airline, Tail_Number, Flight_Number_Reporting_Airline, OriginAirportID, OriginAirportSeqID, OriginCityMarketID, Origin, OriginCityName, OriginState, OriginStateFips, OriginStateName, OriginWac, DestAirportID, DestAirportSeqID, DestCityMarketID, Dest, DestCityName, DestState, DestStateFips, DestStateName, DestWac, CRSDepTime, DepTime, DepDelay, DepDelayMinutes, DepDel15, DepartureDelayGroups, DepTimeBlk, TaxiOut, WheelsOff, WheelsOn, TaxiIn, CRSArrTime, ArrTime, ArrDelay, ArrDelayMinutes, ArrDel15, ArrivalDelayGroups, ArrTimeBlk, Cancelled, CancellationCode, Diverted, CRSElapsedTime, ActualElapsedTime, AirTime, Flights, Distance, DistanceGroup, CarrierDelay, WeatherDelay, NASDelay, SecurityDelay, LateAircraftDelay, FirstDepTime, TotalAddGTime, LongestAddGTime, DivAirportLandings, DivReachedDest, DivActualElapsedTime, DivArrDelay, DivDistance, Div1Airport, Div1AirportID, Div1AirportSeqID, Div1WheelsOn, Div1TotalGTime, Div1LongestGTime, Div1WheelsOff, Div1TailNum, Div2Airport, Div2AirportID, Div2AirportSeqID, Div2WheelsOn, Div2TotalGTime, Div2LongestGTime, Div2WheelsOff, Div2TailNum, Div3Airport, Div3AirportID, Div3AirportSeqID, Div3WheelsOn, Div3TotalGTime, Div3LongestGTime, Div3WheelsOff, Div3TailNum, Div4Airport, Div4AirportID, Div4AirportSeqID, Div4WheelsOn, Div4TotalGTime, Div4LongestGTime, Div4WheelsOff, Div4TailNum, Div5Airport, Div5AirportID, Div5AirportSeqID, Div5WheelsOn, Div5TotalGTime, Div5LongestGTime, Div5WheelsOff, Div5TailNum\n",
      " Schema: _c0, Year, Quarter, Month, DayofMonth, DayOfWeek, FlightDate, Reporting_Airline, DOT_ID_Reporting_Airline, IATA_CODE_Reporting_Airline, Tail_Number, Flight_Number_Reporting_Airline, OriginAirportID, OriginAirportSeqID, OriginCityMarketID, Origin, OriginCityName, OriginState, OriginStateFips, OriginStateName, OriginWac, DestAirportID, DestAirportSeqID, DestCityMarketID, Dest, DestCityName, DestState, DestStateFips, DestStateName, DestWac, CRSDepTime, DepTime, DepDelay, DepDelayMinutes, DepDel15, DepartureDelayGroups, DepTimeBlk, TaxiOut, WheelsOff, WheelsOn, TaxiIn, CRSArrTime, ArrTime, ArrDelay, ArrDelayMinutes, ArrDel15, ArrivalDelayGroups, ArrTimeBlk, Cancelled, CancellationCode, Diverted, CRSElapsedTime, ActualElapsedTime, AirTime, Flights, Distance, DistanceGroup, CarrierDelay, WeatherDelay, NASDelay, SecurityDelay, LateAircraftDelay, FirstDepTime, TotalAddGTime, LongestAddGTime, DivAirportLandings, DivReachedDest, DivActualElapsedTime, DivArrDelay, DivDistance, Div1Airport, Div1AirportID, Div1AirportSeqID, Div1WheelsOn, Div1TotalGTime, Div1LongestGTime, Div1WheelsOff, Div1TailNum, Div2Airport, Div2AirportID, Div2AirportSeqID, Div2WheelsOn, Div2TotalGTime, Div2LongestGTime, Div2WheelsOff, Div2TailNum, Div3Airport, Div3AirportID, Div3AirportSeqID, Div3WheelsOn, Div3TotalGTime, Div3LongestGTime, Div3WheelsOff, Div3TailNum, Div4Airport, Div4AirportID, Div4AirportSeqID, Div4WheelsOn, Div4TotalGTime, Div4LongestGTime, Div4WheelsOff, Div4TailNum, Div5Airport, Div5AirportID, Div5AirportSeqID, Div5WheelsOn, Div5TotalGTime, Div5LongestGTime, Div5WheelsOff, Div5TailNum\n",
      "Expected: _c0 but found: \n",
      "CSV file: file:///Users/denny/pysparktest/code/PySpark%20ETL%20Project-Build%20a%20Data%20Pipeline%20using%20S3%20and%20MySQL/airlines1.csv\n"
     ]
    }
   ],
   "source": [
    "AirlineDF.show(5)"
   ]
  },
  {
   "cell_type": "code",
   "execution_count": 13,
   "id": "7f8a5911",
   "metadata": {},
   "outputs": [],
   "source": [
    "AirlineDF5 = AirlineDF.select(\"_c0\",\"Year\",\"Quarter\", \"Month\", \"DayofMonth\", \"DayofWeek\" , \\\n",
    "                              \"FlightDate\",\"Reporting_Airline\",\"DOT_ID_Reporting_Airline\", \\\n",
    "                              \"OriginCityName\" , \"OriginState\", \"OriginStateFips\", \"OriginStateName\", \\\n",
    "                              \"Distance\" , \"DistanceGroup\",\"CarrierDelay\",\"WeatherDelay\", \"NASDelay\")"
   ]
  },
  {
   "cell_type": "code",
   "execution_count": 14,
   "id": "5adf83cc",
   "metadata": {},
   "outputs": [
    {
     "name": "stdout",
     "output_type": "stream",
     "text": [
      "+---+----+-------+-----+----------+---------+----------+-----------------+------------------------+------------------+-----------+---------------+---------------+--------+-------------+------------+------------+--------+\n",
      "|_c0|Year|Quarter|Month|DayofMonth|DayofWeek|FlightDate|Reporting_Airline|DOT_ID_Reporting_Airline|    OriginCityName|OriginState|OriginStateFips|OriginStateName|Distance|DistanceGroup|CarrierDelay|WeatherDelay|NASDelay|\n",
      "+---+----+-------+-----+----------+---------+----------+-----------------+------------------------+------------------+-----------+---------------+---------------+--------+-------------+------------+------------+--------+\n",
      "|  0|1998|      1|    1|         2|        5|1998-01-02|               NW|                   19386|   Minneapolis, MN|         MN|           27.0|      Minnesota|   991.0|            4|        null|        null|    null|\n",
      "|  1|2009|      2|    5|        28|        4|2009-05-28|               FL|                   20437|     Milwaukee, WI|         WI|           55.0|      Wisconsin|  1066.0|            5|        null|        null|    null|\n",
      "|  2|2013|      2|    6|        29|        6|2013-06-29|               MQ|                   20398|Grand Junction, CO|         CO|            8.0|       Colorado|   773.0|            4|        null|        null|    null|\n",
      "|  3|2010|      3|    8|        31|        2|2010-08-31|               DL|                   19790|   Los Angeles, CA|         CA|            6.0|     California|  1979.0|            8|        null|        null|    null|\n",
      "|  4|2006|      1|    1|        15|        7|2006-01-15|               US|                   20355|        Newark, NJ|         NJ|           34.0|     New Jersey|   529.0|            3|         0.0|         0.0|     0.0|\n",
      "+---+----+-------+-----+----------+---------+----------+-----------------+------------------------+------------------+-----------+---------------+---------------+--------+-------------+------------+------------+--------+\n",
      "only showing top 5 rows\n",
      "\n"
     ]
    },
    {
     "name": "stderr",
     "output_type": "stream",
     "text": [
      "22/05/11 23:19:33 WARN CSVHeaderChecker: CSV header does not conform to the schema.\n",
      " Header: , Year, Quarter, Month, DayofMonth, DayOfWeek, FlightDate, Reporting_Airline, DOT_ID_Reporting_Airline, OriginCityName, OriginState, OriginStateFips, OriginStateName, Distance, DistanceGroup, CarrierDelay, WeatherDelay, NASDelay\n",
      " Schema: _c0, Year, Quarter, Month, DayofMonth, DayOfWeek, FlightDate, Reporting_Airline, DOT_ID_Reporting_Airline, OriginCityName, OriginState, OriginStateFips, OriginStateName, Distance, DistanceGroup, CarrierDelay, WeatherDelay, NASDelay\n",
      "Expected: _c0 but found: \n",
      "CSV file: file:///Users/denny/pysparktest/code/PySpark%20ETL%20Project-Build%20a%20Data%20Pipeline%20using%20S3%20and%20MySQL/airlines1.csv\n"
     ]
    }
   ],
   "source": [
    "AirlineDF5.show(5)"
   ]
  },
  {
   "cell_type": "markdown",
   "id": "3922709a",
   "metadata": {},
   "source": [
    "Write data from pyspark dataframe to Mysql Database"
   ]
  },
  {
   "cell_type": "code",
   "execution_count": 15,
   "id": "8da52212",
   "metadata": {},
   "outputs": [
    {
     "name": "stderr",
     "output_type": "stream",
     "text": [
      "22/05/11 23:19:39 WARN CSVHeaderChecker: CSV header does not conform to the schema.\n",
      " Header: , Year, Quarter, Month, DayofMonth, DayOfWeek, FlightDate, Reporting_Airline, DOT_ID_Reporting_Airline, OriginCityName, OriginState, OriginStateFips, OriginStateName, Distance, DistanceGroup, CarrierDelay, WeatherDelay, NASDelay\n",
      " Schema: _c0, Year, Quarter, Month, DayofMonth, DayOfWeek, FlightDate, Reporting_Airline, DOT_ID_Reporting_Airline, OriginCityName, OriginState, OriginStateFips, OriginStateName, Distance, DistanceGroup, CarrierDelay, WeatherDelay, NASDelay\n",
      "Expected: _c0 but found: \n",
      "CSV file: file:///Users/denny/pysparktest/code/PySpark%20ETL%20Project-Build%20a%20Data%20Pipeline%20using%20S3%20and%20MySQL/airlines1.csv\n",
      "                                                                                \r"
     ]
    }
   ],
   "source": [
    "AirlineDF5.write.format('jdbc').options(\n",
    "      url='jdbc:postgresql://localhost:5432/flight',\n",
    "      driver='org.postgresql.Driver',\n",
    "      dbtable='Airline',\n",
    "      user='postgres',\n",
    "      password='Pa55word').mode('append').save()\n",
    "\n"
   ]
  },
  {
   "cell_type": "code",
   "execution_count": null,
   "id": "8f696635",
   "metadata": {},
   "outputs": [],
   "source": [
    "CREATE TABLE employees (name STRING, dept STRING, salary INT, age INT);\n",
    "\n",
    "INSERT INTO employees VALUES (\"Lisa\", \"Sales\", 10000, 35);\n",
    "INSERT INTO employees VALUES (\"Evan\", \"Sales\", 32000, 38);\n",
    "INSERT INTO employees VALUES (\"Fred\", \"Engineering\", 21000, 28);\n",
    "INSERT INTO employees VALUES (\"Alex\", \"Sales\", 30000, 33);\n",
    "INSERT INTO employees VALUES (\"Tom\", \"Engineering\", 23000, 33);\n",
    "INSERT INTO employees VALUES (\"Jane\", \"Marketing\", 29000, 28);\n",
    "INSERT INTO employees VALUES (\"Jeff\", \"Marketing\", 35000, 38);\n",
    "INSERT INTO employees VALUES (\"Paul\", \"Engineering\", 29000, 23);\n",
    "INSERT INTO employees VALUES (\"Chloe\", \"Engineering\", 23000, 25);\n"
   ]
  },
  {
   "cell_type": "code",
   "execution_count": 13,
   "id": "4fad2c07",
   "metadata": {},
   "outputs": [],
   "source": [
    "spark.stop()"
   ]
  },
  {
   "cell_type": "code",
   "execution_count": null,
   "id": "66c602f7",
   "metadata": {},
   "outputs": [],
   "source": [
    "try:\n",
    "    cur.execute(\"\"\"SELECT\n",
    "    productname,\n",
    "    productid,\n",
    "    round(( AVG( is_click )*100), 2) CTR\n",
    "FROM\n",
    "    product p\n",
    "INNER JOIN ad_click_prediction_train ad\n",
    "        USING(productid)\n",
    "GROUP BY\n",
    "    productname, productid\n",
    "ORDER BY\n",
    "    CTR DESC LIMIT 5\n",
    "    \"\"\")\n",
    "    CTR_records = cur.fetchall()\n",
    "    print(\"The top 5 product names with highest click through rate.\")\n",
    "    for row in CTR_records:\n",
    "        print(\"ProductName = \", row[0], )\n",
    "        print(\"Product_Id = \", row[1])\n",
    "        print(\"CTR  = \", row[2], \"\\n\")\n",
    "except psycopg2.Error as e:\n",
    "    print(\"Error: Issue creating table\")\n",
    "    print(e)"
   ]
  },
  {
   "cell_type": "code",
   "execution_count": null,
   "id": "ac7b9b41",
   "metadata": {},
   "outputs": [],
   "source": []
  }
 ],
 "metadata": {
  "kernelspec": {
   "display_name": "Python 3 (ipykernel)",
   "language": "python",
   "name": "python3"
  },
  "language_info": {
   "codemirror_mode": {
    "name": "ipython",
    "version": 3
   },
   "file_extension": ".py",
   "mimetype": "text/x-python",
   "name": "python",
   "nbconvert_exporter": "python",
   "pygments_lexer": "ipython3",
   "version": "3.9.7"
  }
 },
 "nbformat": 4,
 "nbformat_minor": 5
}
